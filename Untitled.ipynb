{
 "cells": [
  {
   "cell_type": "code",
   "execution_count": 18,
   "metadata": {},
   "outputs": [],
   "source": [
    "import sklearn                                                # for neural networks and performance metrics\n",
    "import numpy as np                                            # for math and data operations\n",
    "import pandas as pd                                           # for dataframes used in documentation and debugging\n",
    "import random                                                 # for use in training data creation\n",
    "import math\n",
    "from sklearn.neural_network import MLPRegressor\n",
    "from sklearn.preprocessing import StandardScaler\n",
    "from sklearn.model_selection import train_test_split"
   ]
  },
  {
   "cell_type": "code",
   "execution_count": 19,
   "metadata": {},
   "outputs": [
    {
     "name": "stdout",
     "output_type": "stream",
     "text": [
      "(1000, 1)\n",
      "(1000, 1)\n"
     ]
    }
   ],
   "source": [
    "training_input_list = np.zeros((1000, 1))                           # creating a column vector for inputs. Determines training size of the rest of the data\n",
    "for i in range(training_input_list.shape[0]):                        # populating the input column vector via a for loop\n",
    "    training_input_list[i][0] = random.randint(1, 91)  \n",
    "training_sin_list = np.zeros((training_input_list.shape[0],1))       # creating a column vector of sins for outputs\n",
    "for i in range(training_sin_list.shape[0]):                          # calculating the appropriate outputs for the input column vector\n",
    "    training_sin_list[i][0] = np.sin(training_input_list[i][0])      # as per the sine function\n",
    "\n",
    "    \n",
    "#training_input_list = StandardScaler().fit_transform(training_input_list)  \n",
    "#training_sin_list = StandardScaler().fit_transform(training_sin_list)\n",
    "\n",
    "print(training_input_list.shape)           # this is just debug code to verify the shapes of the column vectors\n",
    "print(training_sin_list.shape)"
   ]
  },
  {
   "cell_type": "code",
   "execution_count": 20,
   "metadata": {},
   "outputs": [
    {
     "name": "stdout",
     "output_type": "stream",
     "text": [
      "               Input\n",
      "Iteration 0     63.0\n",
      "Iteration 1     34.0\n",
      "Iteration 2     68.0\n",
      "Iteration 3     63.0\n",
      "Iteration 4     76.0\n",
      "...              ...\n",
      "Iteration 995   20.0\n",
      "Iteration 996   55.0\n",
      "Iteration 997   78.0\n",
      "Iteration 998   47.0\n",
      "Iteration 999   23.0\n",
      "\n",
      "[1000 rows x 1 columns]\n",
      "                   Sine\n",
      "Iteration 0    0.167356\n",
      "Iteration 1    0.529083\n",
      "Iteration 2   -0.897928\n",
      "Iteration 3    0.167356\n",
      "Iteration 4    0.566108\n",
      "...                 ...\n",
      "Iteration 995  0.912945\n",
      "Iteration 996 -0.999755\n",
      "Iteration 997  0.513978\n",
      "Iteration 998  0.123573\n",
      "Iteration 999 -0.846220\n",
      "\n",
      "[1000 rows x 1 columns]\n"
     ]
    }
   ],
   "source": [
    "# creating DataFrames from the input list. Debug/data visualization use only. Dataframes are not used in architecture\n",
    "\n",
    "print(pd.DataFrame(training_input_list, columns=['Input'], index=[\"Iteration \" +  str(i) for i in range(training_input_list.shape[0])]))\n",
    "print(pd.DataFrame(training_sin_list, columns=['Sine'], index=[\"Iteration \" + str(i) for i in range(training_sin_list.shape[0])]))"
   ]
  },
  {
   "cell_type": "code",
   "execution_count": 21,
   "metadata": {},
   "outputs": [],
   "source": [
    "neuralNetwork = MLPRegressor(hidden_layer_sizes=(100, 100), activation='tanh', solver='lbfgs', max_iter=1000)\n"
   ]
  },
  {
   "cell_type": "code",
   "execution_count": 22,
   "metadata": {},
   "outputs": [],
   "source": [
    "X_train, X_test, Y_train, Y_test = train_test_split(training_input_list, training_sin_list, test_size=0.35)"
   ]
  },
  {
   "cell_type": "code",
   "execution_count": 23,
   "metadata": {},
   "outputs": [
    {
     "name": "stdout",
     "output_type": "stream",
     "text": [
      "(650, 1)\n",
      "(650, 1)\n"
     ]
    }
   ],
   "source": [
    "print(X_train.shape)\n",
    "print(Y_train.shape)\n"
   ]
  },
  {
   "cell_type": "code",
   "execution_count": 24,
   "metadata": {},
   "outputs": [
    {
     "data": {
      "text/plain": [
       "0.10560171458860791"
      ]
     },
     "execution_count": 24,
     "metadata": {},
     "output_type": "execute_result"
    }
   ],
   "source": [
    "neuralNetwork.fit(X_train, np.ravel(Y_train))\n",
    "neuralNetwork.score(X_test, np.ravel(Y_test))"
   ]
  },
  {
   "cell_type": "code",
   "execution_count": null,
   "metadata": {},
   "outputs": [],
   "source": []
  },
  {
   "cell_type": "code",
   "execution_count": null,
   "metadata": {},
   "outputs": [],
   "source": []
  },
  {
   "cell_type": "code",
   "execution_count": null,
   "metadata": {},
   "outputs": [],
   "source": []
  },
  {
   "cell_type": "code",
   "execution_count": null,
   "metadata": {},
   "outputs": [],
   "source": []
  }
 ],
 "metadata": {
  "kernelspec": {
   "display_name": "Python 3",
   "language": "python",
   "name": "python3"
  },
  "language_info": {
   "codemirror_mode": {
    "name": "ipython",
    "version": 3
   },
   "file_extension": ".py",
   "mimetype": "text/x-python",
   "name": "python",
   "nbconvert_exporter": "python",
   "pygments_lexer": "ipython3",
   "version": "3.7.4"
  }
 },
 "nbformat": 4,
 "nbformat_minor": 4
}
