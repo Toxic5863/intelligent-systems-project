{
 "cells": [
  {
   "cell_type": "code",
   "execution_count": 1,
   "metadata": {},
   "outputs": [],
   "source": [
    "from sklearn.neural_network import MLPClassifier\n",
    "import random\n",
    "import numpy as np\n",
    "import GANetworks"
   ]
  },
  {
   "cell_type": "code",
   "execution_count": 2,
   "metadata": {},
   "outputs": [],
   "source": [
    "training_input_list = np.zeros((1000, 2))                           # creating a column vector for inputs. Determines training size of the rest of the data\n",
    "for i in range(training_input_list.shape[0]):                        # populating the input column vector via a for loop\n",
    "    training_input_list[i][0] = random.randint(0, 1)\n",
    "    training_input_list[i][1] = random.randint(0, 1)\n",
    "training_xor_list = np.zeros((training_input_list.shape[0],1))       # creating a column vector of sins for outputs\n",
    "for i in range(training_xor_list.shape[0]):                          # calculating the appropriate outputs for the input column vector\n",
    "    training_xor_list[i][0] = training_input_list[i][0] != training_input_list[i][1]      # as per the XOR logical operator\n",
    "\n",
    "    \n",
    "    #print(training_input_list[:10])           # this is just debug code to verify the shapes of the column vectors\n",
    "    #print(training_xor_list[:10])\n"
   ]
  },
  {
   "cell_type": "code",
   "execution_count": 4,
   "metadata": {},
   "outputs": [
    {
     "name": "stdout",
     "output_type": "stream",
     "text": [
      "(4,)\n"
     ]
    }
   ],
   "source": [
    "print(GANetworks.startGenetics(training_input_list, training_xor_list))"
   ]
  },
  {
   "cell_type": "code",
   "execution_count": null,
   "metadata": {},
   "outputs": [],
   "source": []
  }
 ],
 "metadata": {
  "kernelspec": {
   "display_name": "Python 3",
   "language": "python",
   "name": "python3"
  },
  "language_info": {
   "codemirror_mode": {
    "name": "ipython",
    "version": 3
   },
   "file_extension": ".py",
   "mimetype": "text/x-python",
   "name": "python",
   "nbconvert_exporter": "python",
   "pygments_lexer": "ipython3",
   "version": "3.7.4"
  }
 },
 "nbformat": 4,
 "nbformat_minor": 2
}
